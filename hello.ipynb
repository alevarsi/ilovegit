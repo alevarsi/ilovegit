{
 "cells": [
  {
   "cell_type": "code",
   "execution_count": null,
   "id": "776b20cd-8699-4046-a14b-7796f280b8db",
   "metadata": {},
   "outputs": [],
   "source": []
  }
 ],
 "metadata": {
  "kernelspec": {
   "display_name": "",
   "name": ""
  },
  "language_info": {
   "name": ""
  }
 },
 "nbformat": 4,
 "nbformat_minor": 5
}
